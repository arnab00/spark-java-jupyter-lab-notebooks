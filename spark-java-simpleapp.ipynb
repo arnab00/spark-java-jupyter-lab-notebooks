{
 "cells": [
  {
   "cell_type": "markdown",
   "id": "c50b453b-1f72-4d2f-9aba-0d3cb5d88414",
   "metadata": {
    "jp-MarkdownHeadingCollapsed": true,
    "tags": []
   },
   "source": [
    "## playing around\n",
    "https://github.com/SpencerPark/IJava"
   ]
  },
  {
   "cell_type": "code",
   "execution_count": null,
   "id": "a79cc311-5aae-4365-bac0-32dc9a5b22df",
   "metadata": {},
   "outputs": [],
   "source": [
    "System.out.println(\"Hello World!\")"
   ]
  },
  {
   "cell_type": "code",
   "execution_count": null,
   "id": "86c46e37-f3ef-4c88-9de3-0fb328c3713f",
   "metadata": {},
   "outputs": [],
   "source": [
    "var x= 10/1"
   ]
  },
  {
   "cell_type": "code",
   "execution_count": null,
   "id": "ccc04040-99ff-4a6c-9d6c-67d95e2e20af",
   "metadata": {},
   "outputs": [],
   "source": [
    "System.out.println(x)"
   ]
  },
  {
   "cell_type": "code",
   "execution_count": null,
   "id": "3db05ea4-08b5-4eed-a13b-855a6504c3a4",
   "metadata": {},
   "outputs": [],
   "source": [
    "//%maven org.apache.commons:commons-lang3:3.12.0 //import works\n",
    "    \n",
    "import org.apache.commons.lang3.StringUtils;\n",
    "\n",
    "var y = StringUtils.isEmpty(\"\");"
   ]
  },
  {
   "cell_type": "code",
   "execution_count": null,
   "id": "3e282c64-a6b0-43c9-b424-adf1aad64bc4",
   "metadata": {},
   "outputs": [],
   "source": [
    "System.out.println(y)"
   ]
  },
  {
   "cell_type": "markdown",
   "id": "4cb40223-e262-4f21-9084-af3c8d287b1e",
   "metadata": {
    "tags": []
   },
   "source": [
    "## Spark with Java"
   ]
  },
  {
   "cell_type": "code",
   "execution_count": null,
   "id": "996f4639-bfc4-40b2-807e-524f3db6d243",
   "metadata": {},
   "outputs": [],
   "source": [
    "//%maven org.apache.spark:spark-sql_2.12:3.3.0 //not working\n",
    "List<String> addedJars = %jars C:/spark/spark-3.3.0-bin-hadoop3/jars/*.jar\n",
    "//System.out.println(addedJars)"
   ]
  },
  {
   "cell_type": "code",
   "execution_count": null,
   "id": "ce862080-5246-4c51-80da-b08073ff1df9",
   "metadata": {},
   "outputs": [],
   "source": [
    "import org.apache.spark.sql.Dataset;\n",
    "import org.apache.spark.sql.SparkSession;\n",
    "import org.apache.spark.api.java.function.FilterFunction;"
   ]
  },
  {
   "cell_type": "code",
   "execution_count": null,
   "id": "d36795ef-8b0f-4274-862f-bdcfb1d1961e",
   "metadata": {},
   "outputs": [],
   "source": [
    "String logFile = \"C:/spark/spark-3.3.0-bin-hadoop3/README.md\";"
   ]
  },
  {
   "cell_type": "code",
   "execution_count": null,
   "id": "cc2526fd-901c-4f80-bf48-fbeadfe3bfab",
   "metadata": {
    "tags": []
   },
   "outputs": [],
   "source": [
    "SparkSession spark = SparkSession.builder()\n",
    "    .appName(\"Simple Application\")\n",
    "    .config(\"spark.master\", \"local\")\n",
    "    .getOrCreate();"
   ]
  },
  {
   "cell_type": "code",
   "execution_count": null,
   "id": "e2799a0f-3c29-4ba8-abf6-8fc29c8faa8a",
   "metadata": {},
   "outputs": [],
   "source": [
    "Dataset<String> logData = spark.read().textFile(logFile).cache();"
   ]
  },
  {
   "cell_type": "code",
   "execution_count": null,
   "id": "e6636bc9-7e97-451f-b337-7eeed907adba",
   "metadata": {
    "tags": []
   },
   "outputs": [],
   "source": [
    "long numAs = logData.filter((FilterFunction<String>) s -> s.contains(\"a\")).count();"
   ]
  },
  {
   "cell_type": "code",
   "execution_count": null,
   "id": "4971c380-7e5c-43ad-96ea-8ec9f1e04ef3",
   "metadata": {
    "tags": []
   },
   "outputs": [],
   "source": [
    "long numBs = logData.filter((FilterFunction<String>) s -> s.contains(\"b\")).count();"
   ]
  },
  {
   "cell_type": "code",
   "execution_count": null,
   "id": "773b1bed-39a3-4514-8364-88c7d3109d00",
   "metadata": {},
   "outputs": [],
   "source": [
    "System.out.println(\"Lines with a: \" + numAs + \", lines with b: \" + numBs);"
   ]
  },
  {
   "cell_type": "code",
   "execution_count": null,
   "id": "138a145a-2128-4275-93ea-b7001afb8c67",
   "metadata": {
    "tags": []
   },
   "outputs": [],
   "source": [
    "spark.stop();"
   ]
  }
 ],
 "metadata": {
  "kernelspec": {
   "display_name": "Java",
   "language": "java",
   "name": "java"
  },
  "language_info": {
   "codemirror_mode": "java",
   "file_extension": ".jshell",
   "mimetype": "text/x-java-source",
   "name": "Java",
   "pygments_lexer": "java",
   "version": "11.0.16.1+1"
  }
 },
 "nbformat": 4,
 "nbformat_minor": 5
}
