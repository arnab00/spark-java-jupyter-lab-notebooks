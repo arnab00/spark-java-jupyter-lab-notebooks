{
 "cells": [
  {
   "cell_type": "code",
   "execution_count": 1,
   "id": "8e0aa94d-c414-4a18-9513-7b8908d16fd0",
   "metadata": {},
   "outputs": [],
   "source": [
    "List<String> addedJars = %jars C:/spark/beam/jars/*.jar\n",
    "//System.out.println(addedJars)"
   ]
  },
  {
   "cell_type": "code",
   "execution_count": 2,
   "id": "dd414472-7535-4226-8084-4684684f1370",
   "metadata": {},
   "outputs": [],
   "source": [
    "import java.util.Arrays;\n",
    "import org.apache.beam.sdk.Pipeline;\n",
    "import org.apache.beam.sdk.io.TextIO;\n",
    "import org.apache.beam.sdk.options.PipelineOptions;\n",
    "import org.apache.beam.sdk.options.PipelineOptionsFactory;\n",
    "import org.apache.beam.sdk.transforms.Count;\n",
    "import org.apache.beam.sdk.transforms.Filter;\n",
    "import org.apache.beam.sdk.transforms.FlatMapElements;\n",
    "import org.apache.beam.sdk.transforms.MapElements;\n",
    "import org.apache.beam.sdk.values.KV;\n",
    "import org.apache.beam.sdk.values.TypeDescriptors;"
   ]
  },
  {
   "cell_type": "code",
   "execution_count": 3,
   "id": "857ebfc8-01ac-4d14-a77b-00a79ab8ef46",
   "metadata": {},
   "outputs": [],
   "source": [
    "PipelineOptions options = PipelineOptionsFactory.create();"
   ]
  },
  {
   "cell_type": "code",
   "execution_count": 4,
   "id": "a51ab412-1e03-4f6a-8e70-2a9b152f0966",
   "metadata": {},
   "outputs": [],
   "source": [
    "Pipeline p = Pipeline.create(options);"
   ]
  },
  {
   "cell_type": "code",
   "execution_count": 5,
   "id": "a1bb6f8b-3b93-4111-9198-e5e56fa002b3",
   "metadata": {},
   "outputs": [],
   "source": [
    "var s1 = p.apply(TextIO.read().from(\"inputs/sample.txt\"))"
   ]
  },
  {
   "cell_type": "code",
   "execution_count": 6,
   "id": "823a740a-80d1-4637-b826-1c2d8ce46e8e",
   "metadata": {},
   "outputs": [],
   "source": [
    "var s2 = s1.apply(FlatMapElements\n",
    "        .into(TypeDescriptors.strings())\n",
    "        .via((String line) -> Arrays.asList(line.split(\"[^\\\\p{L}]+\"))))"
   ]
  },
  {
   "cell_type": "code",
   "execution_count": 7,
   "id": "d9d462bd-b3a1-4a6e-92dd-5dfea58d1f8d",
   "metadata": {},
   "outputs": [],
   "source": [
    "var s3 = s2.apply(Filter.by((String word) -> !word.isEmpty()))"
   ]
  },
  {
   "cell_type": "code",
   "execution_count": 8,
   "id": "58d4151d-845b-41fd-b917-8238c17ed5ba",
   "metadata": {},
   "outputs": [],
   "source": [
    "var s4 = s3.apply(Count.perElement())"
   ]
  },
  {
   "cell_type": "code",
   "execution_count": 9,
   "id": "96c75ba4-eab6-407e-a9a9-fd9de87ad76a",
   "metadata": {},
   "outputs": [],
   "source": [
    "var s5 = s4.apply(MapElements\n",
    "         .into(TypeDescriptors.strings())\n",
    "         .via((KV<String, Long> wordCount) -> wordCount.getKey() + \": \" + wordCount.getValue()))"
   ]
  },
  {
   "cell_type": "code",
   "execution_count": 10,
   "id": "ebc46bac-ba4d-4c55-92c5-602fe81612f8",
   "metadata": {},
   "outputs": [],
   "source": [
    "var s6 = s5.apply(TextIO.write().to(\"outputs/wordcounts\"));"
   ]
  },
  {
   "cell_type": "code",
   "execution_count": 11,
   "id": "b571cd32-0ddf-438f-a61c-4437b1a423ce",
   "metadata": {},
   "outputs": [
    {
     "data": {
      "text/plain": [
       "DONE"
      ]
     },
     "execution_count": 11,
     "metadata": {},
     "output_type": "execute_result"
    }
   ],
   "source": [
    "p.run().waitUntilFinish();"
   ]
  }
 ],
 "metadata": {
  "kernelspec": {
   "display_name": "Java",
   "language": "java",
   "name": "java"
  },
  "language_info": {
   "codemirror_mode": "java",
   "file_extension": ".jshell",
   "mimetype": "text/x-java-source",
   "name": "Java",
   "pygments_lexer": "java",
   "version": "11.0.16.1+1"
  }
 },
 "nbformat": 4,
 "nbformat_minor": 5
}
